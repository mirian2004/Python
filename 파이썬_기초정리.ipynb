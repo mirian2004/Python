{
  "nbformat": 4,
  "nbformat_minor": 0,
  "metadata": {
    "colab": {
      "provenance": [],
      "authorship_tag": "ABX9TyPORwPElVrmgCgc/CgwDM5N",
      "include_colab_link": true
    },
    "kernelspec": {
      "name": "python3",
      "display_name": "Python 3"
    },
    "language_info": {
      "name": "python"
    }
  },
  "cells": [
    {
      "cell_type": "markdown",
      "metadata": {
        "id": "view-in-github",
        "colab_type": "text"
      },
      "source": [
        "<a href=\"https://colab.research.google.com/github/mirian2004/Python/blob/main/%ED%8C%8C%EC%9D%B4%EC%8D%AC_%EA%B8%B0%EC%B4%88%EC%A0%95%EB%A6%AC.ipynb\" target=\"_parent\"><img src=\"https://colab.research.google.com/assets/colab-badge.svg\" alt=\"Open In Colab\"/></a>"
      ]
    },
    {
      "cell_type": "code",
      "execution_count": 1,
      "metadata": {
        "colab": {
          "base_uri": "https://localhost:8080/"
        },
        "id": "lpnWhpnJuA_n",
        "outputId": "d97a4e28-1b26-4dbd-9418-9ad604d35058"
      },
      "outputs": [
        {
          "output_type": "stream",
          "name": "stdout",
          "text": [
            "안녕하세요 반갑습니다!\n"
          ]
        }
      ],
      "source": [
        "print(\"안녕하세요 반갑습니다!\")"
      ]
    },
    {
      "cell_type": "code",
      "source": [
        "a=10\n",
        "print"
      ],
      "metadata": {
        "colab": {
          "base_uri": "https://localhost:8080/"
        },
        "id": "TIxek8ZouS00",
        "outputId": "9b45fdc7-10e5-4b21-f5f9-22b7b5d729af"
      },
      "execution_count": 2,
      "outputs": [
        {
          "output_type": "stream",
          "name": "stdout",
          "text": [
            "10\n"
          ]
        }
      ]
    },
    {
      "cell_type": "code",
      "source": [
        "print(\"안녕하세요 반갑습니다!\")\n",
        "print(\"나이 : \",25)\n",
        "print(\"서울\",\"부산\",\"대구\", sep= \"->\") #공통된 구분자를 sep로 지정한다.\n",
        "print(\"안녕하세요\", end=\"! \")\n",
        "print(\"반갑습니다\")\n",
        "''' print한 후에 올 내용을 end로 작성한다.\n",
        "기본적으로 파이썬에서 print함수는 /n으로 줄바꿈이 되기때문에 다음것을 줄바꿈하지 않고 이어서 작성할 때 사용할 수 있다. '''\n",
        "name = \"철수\"\n",
        "age = 20\n",
        "print(f\"{name}의 나이는 {age}살 입니다\") #주석은 한줄이면 #, 여러줄이면 ''' 혹은 \"\"\" 사이에 작성한다\""
      ],
      "metadata": {
        "colab": {
          "base_uri": "https://localhost:8080/"
        },
        "id": "DuzC9i9duc7P",
        "outputId": "5f2d2e12-dc4f-4f09-9dd4-e7f39f873c19"
      },
      "execution_count": null,
      "outputs": [
        {
          "output_type": "stream",
          "name": "stdout",
          "text": [
            "안녕하세요 반갑습니다!\n",
            "나이 :  25\n",
            "서울->부산->대구\n",
            "안녕하세요! 반갑습니다\n",
            "철수의 나이는 20살 입니다\n"
          ]
        }
      ]
    },
    {
      "cell_type": "code",
      "source": [
        "import math\n",
        "print(math.pi)"
      ],
      "metadata": {
        "colab": {
          "base_uri": "https://localhost:8080/"
        },
        "id": "NWeHzJnFwSQd",
        "outputId": "5de73162-9844-4b5a-8f3c-d96a61896e47"
      },
      "execution_count": 4,
      "outputs": [
        {
          "output_type": "stream",
          "name": "stdout",
          "text": [
            "3.141592653589793\n"
          ]
        }
      ]
    },
    {
      "cell_type": "code",
      "source": [
        "import numpy as np #numpy ; 다차원 배열 객체, 배열과 함께 작동하는 도구 제공\n",
        "array = np.array([1,2,3])\n",
        "print(array)"
      ],
      "metadata": {
        "colab": {
          "base_uri": "https://localhost:8080/"
        },
        "id": "ADJifiE2xfl6",
        "outputId": "cde8fbc8-6ece-4b30-f976-93e167cdaa67"
      },
      "execution_count": 5,
      "outputs": [
        {
          "output_type": "stream",
          "name": "stdout",
          "text": [
            "[1 2 3]\n"
          ]
        }
      ]
    },
    {
      "cell_type": "code",
      "source": [
        "from math import sqrt #math라는 모듈에서 sqrt(루트)라는 함수를 불러오겠다\n",
        "print(sqrt(16))"
      ],
      "metadata": {
        "colab": {
          "base_uri": "https://localhost:8080/"
        },
        "id": "rmNrekfc8wUw",
        "outputId": "bb629ceb-75fd-405f-81df-4d871e43add7"
      },
      "execution_count": 6,
      "outputs": [
        {
          "output_type": "stream",
          "name": "stdout",
          "text": [
            "4.0\n"
          ]
        }
      ]
    },
    {
      "cell_type": "code",
      "source": [
        "from math import sin, cos, tan #여러함수 불러오기 -> ,를 사용한다\n",
        "print(sin(0),cos(0),tan(0))"
      ],
      "metadata": {
        "colab": {
          "base_uri": "https://localhost:8080/"
        },
        "id": "7rb4mjL39Z7I",
        "outputId": "a0021f52-bde2-4143-c43f-f8c5cec87309"
      },
      "execution_count": 7,
      "outputs": [
        {
          "output_type": "stream",
          "name": "stdout",
          "text": [
            "0.0 1.0 0.0\n"
          ]
        }
      ]
    },
    {
      "cell_type": "code",
      "source": [
        "from math import * #모든 함수 불러오기 ?그러면 import math와 뭐가 다를까?\n",
        "print(factorial(5))"
      ],
      "metadata": {
        "colab": {
          "base_uri": "https://localhost:8080/"
        },
        "id": "lXh1t11_9oUN",
        "outputId": "2bac6e08-586c-4e35-bdc3-b6961111294f"
      },
      "execution_count": 8,
      "outputs": [
        {
          "output_type": "stream",
          "name": "stdout",
          "text": [
            "120\n"
          ]
        }
      ]
    },
    {
      "cell_type": "code",
      "source": [
        "if True:\n",
        "    print(\"조건이 참입니다\") #한 코드 내에서는 일관된 들여쓰기를 해야한다.\n",
        "    print(\"여기는 동일한 블록입니다\") #중괄호 대신에 띄어쓰기로 관리. 탭한번 혹은 띄어쓰기 4번\n",
        "else:\n",
        "    print(\"조건이 거짓입니다\")"
      ],
      "metadata": {
        "colab": {
          "base_uri": "https://localhost:8080/"
        },
        "id": "jJA_8Mbx92c1",
        "outputId": "3a7b5956-591e-4ad3-955a-443b9985d48e"
      },
      "execution_count": 1,
      "outputs": [
        {
          "output_type": "stream",
          "name": "stdout",
          "text": [
            "조건이 참입니다\n",
            "여기는 동일한 블록입니다\n"
          ]
        }
      ]
    },
    {
      "cell_type": "code",
      "source": [
        "age1 = 25\n",
        "print(type(age1))\n",
        "\n",
        "pi = 3.1415\n",
        "print(type(pi))\n",
        "\n",
        "message = \"안녕하세요\"\n",
        "print(type(message))\n",
        "\n",
        "is_active = True\n",
        "print(type(is_active))\n",
        " #type() 함수를 통해 변수의 자료형을 확인할 수 있다"
      ],
      "metadata": {
        "colab": {
          "base_uri": "https://localhost:8080/"
        },
        "id": "0hyZLRc4rGfo",
        "outputId": "f1a779c7-c5ad-4558-e432-784ebb56c304"
      },
      "execution_count": 1,
      "outputs": [
        {
          "output_type": "stream",
          "name": "stdout",
          "text": [
            "<class 'int'>\n",
            "<class 'float'>\n",
            "<class 'str'>\n",
            "<class 'bool'>\n"
          ]
        }
      ]
    },
    {
      "cell_type": "code",
      "source": [
        "s1 = 100\n",
        "n1 = int(s1)\n",
        "print(n1, type(n1))\n",
        "\n",
        "s2 = 3.14\n",
        "n2 = float(s2)\n",
        "print(n2, type(s2))\n",
        "\n",
        "n3 = 256\n",
        "s3 = str(n3)\n",
        "print(s3, type(s3))\n",
        "\n",
        "print(bool(0))\n",
        "print(bool(1))\n",
        "print(bool(\"\"))\n",
        "print(bool(\"abc\"))\n",
        " # 숫자 0, 빈문자열 \"\", 빈 리스트[] 등은 False로 변환된다"
      ],
      "metadata": {
        "colab": {
          "base_uri": "https://localhost:8080/"
        },
        "id": "ihZxN-QRXsGn",
        "outputId": "0613d8a5-f1cb-4f05-b986-550ca9082e8a"
      },
      "execution_count": 2,
      "outputs": [
        {
          "output_type": "stream",
          "name": "stdout",
          "text": [
            "100 <class 'int'>\n",
            "3.14 <class 'float'>\n",
            "256 <class 'str'>\n",
            "False\n",
            "True\n",
            "False\n",
            "True\n"
          ]
        }
      ]
    },
    {
      "cell_type": "code",
      "source": [
        "#문자열 선언 : 큰따옴표, 작은 따옴표, 여러줄은 \"\"\"\n",
        "\n",
        "greeting1 = \"Hi hello!\"\n",
        "greeting2 = 'Hi World!'\n",
        "multiline = \"\"\" 여러 줄의\n",
        "문자열을 작성할 때는\n",
        "이렇게 합니다. \"\"\"\n",
        "\n",
        "#문자열 인덱싱/슬라이싱\n",
        "\n",
        "st = \"Python\"\n",
        "print(st[0]) #앞에서 첫번째\n",
        "print(st[-1]) #뒤에서 첫번째\n",
        "\n",
        "st2 = \"Hello World!\"\n",
        "print(st2[0:5]) #0부터 5전까지\n",
        "print(st2[7:]) #7부터 끝까지\n",
        "print(st2[:5]) #처음부터 5전까지\n",
        "print(st2[::2]) #2칸씩 건너뛰기\n",
        "\n",
        "#문자열 연산\n",
        "\n",
        "s1 = \"파이썬\"\n",
        "s2 = \"최고\"\n",
        "result = s1 + \" \" + s2\n",
        "print(result)\n",
        "\n",
        "s3 = \"안녕\"\n",
        "print(s3 * 3)\n",
        "\n",
        "#문자열 메소드\n",
        "\n",
        "s4 = \"Hello\"\n",
        "len(s4) #글자수 가져오기\n",
        "\n",
        "s5 = \"python\"\n",
        "print(s5.upper())\n",
        "\n",
        "s6 = \"PYTHON\"\n",
        "print(s6.lower())\n",
        "\n",
        "s = \"hello world\"\n",
        "print(s.capitalize()) #첫글자만 대문자로\n",
        "print(s.title()) #각 단어의 첫글자를 대문자로\n",
        "\n",
        "w = \" Hello World \"\n",
        "print(w.strip()) #양쪽 공백 제\n",
        "\n",
        "w1 = \"  Hello World\"\n",
        "print(w1.lstrip())\n",
        "\n",
        "w2 = \"Hello World  \"\n",
        "print(w2.rstrip())\n",
        "\n",
        "w3 = \"Hello World\"\n",
        "print(w3.find(\"World\")) #특정 문자열이 처음 등장하는 위치 반환\n",
        "print(w3.find(\"Python\")) #없으면 -1 반환\n",
        "print(w3.index(\"World\")) #특정 문자열이 처음 등장하는 위치 반환\n",
        "print(w3.index(\"Python\")) #없으면 오류 발생\n",
        "\n",
        "w4 = \"I like Java\"\n",
        "print(w4.replace(\"Java\", \"Python\"))\n",
        "\n",
        "a = \"apple,banana,cherry\"\n",
        "fruits = a.split(\",\") #구분자를 기준으로 문자열을 분리, 리스트로 만듦\n",
        "print(fruits)\n",
        "\n",
        "words = [\"Hello\", \"World\"]\n",
        "sentence = \" \".join(words) #리스트의 문자열을 구분자로 결합. *앞에 오는게 구분자, 괄호 안이 리스트*\n",
        "print(sentence)\n",
        "\n",
        "a1 = \"hello world\"\n",
        "print(a1.startswith(\"hello\")) #특정 문자열로 시작하는지 검사\n",
        "print(a1.endswith(\"world\")) #특정 문자열로 끝나는지 검사\n",
        "\n",
        "name = \"철수\"\n",
        "age = 20\n",
        "print(\"이름 : %s, 나이 : %d\" % (name,age)) # % 연산자\n",
        "print(\"이름 : {}, 나이 : {}\".format(name, age)) #문자열.format()\n",
        "print(f\"이름 : {name}, 나이 : {age}\") # f 문자열(중괄호 안에 변수)"
      ],
      "metadata": {
        "colab": {
          "base_uri": "https://localhost:8080/"
        },
        "id": "mFZDso_eZAj1",
        "outputId": "b443ff8c-5cad-454f-aa3a-e795e3c3424a"
      },
      "execution_count": 8,
      "outputs": [
        {
          "output_type": "stream",
          "name": "stdout",
          "text": [
            "P\n",
            "n\n",
            "Hello\n",
            "orld!\n",
            "Hello\n",
            "HloWrd\n",
            "파이썬 최고\n",
            "안녕안녕안녕\n",
            "PYTHON\n",
            "python\n",
            "Hello world\n",
            "Hello World\n",
            "Hello World\n",
            "Hello World\n",
            "Hello World\n",
            "6\n",
            "-1\n",
            "6\n",
            "I like Python\n",
            "['apple', 'banana', 'cherry']\n",
            "Hello World\n",
            "True\n",
            "True\n",
            "이름 : 철수, 나이 : 20\n",
            "이름 : 철수, 나이 : 20\n",
            "이름 : 철수, 나이 : 20\n"
          ]
        }
      ]
    },
    {
      "cell_type": "code",
      "source": [
        "name = input(\"이름을 입력하세요: \") #input() : 사용자가 괄호안을 입력할 수 있음\n",
        "age = input(\"나이를 입력하세요: \")\n",
        "\n",
        "age = int(age)\n",
        "\n",
        "message = f\"안녕하세요 {name}님! 당신은 {age}살 입니다!\"\n",
        "\n",
        "print(message)"
      ],
      "metadata": {
        "colab": {
          "base_uri": "https://localhost:8080/"
        },
        "id": "ymTvEAJBjYcu",
        "outputId": "e9b20353-f0eb-48a8-a37b-9a1d23ceedf5"
      },
      "execution_count": 10,
      "outputs": [
        {
          "output_type": "stream",
          "name": "stdout",
          "text": [
            "이름을 입력하세요: 고다인\n",
            "나이를 입력하세요: 21\n",
            "안녕하세요 고다인님! 당신은 21살 입니다!\n"
          ]
        }
      ]
    },
    {
      "cell_type": "code",
      "source": [],
      "metadata": {
        "id": "HEEYSfAOkcaI"
      },
      "execution_count": null,
      "outputs": []
    }
  ]
}